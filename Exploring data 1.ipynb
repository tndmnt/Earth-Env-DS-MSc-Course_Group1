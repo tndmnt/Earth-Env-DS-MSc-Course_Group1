{
 "cells": [
  {
   "cell_type": "code",
   "execution_count": 17,
   "metadata": {},
   "outputs": [],
   "source": [
    "import pandas as pd"
   ]
  },
  {
   "cell_type": "code",
   "execution_count": 18,
   "metadata": {},
   "outputs": [],
   "source": [
    "df = pd.read_csv(\"preprocessed_climate_data.csv\")"
   ]
  },
  {
   "cell_type": "code",
   "execution_count": 19,
   "metadata": {},
   "outputs": [
    {
     "data": {
      "text/html": [
       "<div>\n",
       "<style scoped>\n",
       "    .dataframe tbody tr th:only-of-type {\n",
       "        vertical-align: middle;\n",
       "    }\n",
       "\n",
       "    .dataframe tbody tr th {\n",
       "        vertical-align: top;\n",
       "    }\n",
       "\n",
       "    .dataframe thead th {\n",
       "        text-align: right;\n",
       "    }\n",
       "</style>\n",
       "<table border=\"1\" class=\"dataframe\">\n",
       "  <thead>\n",
       "    <tr style=\"text-align: right;\">\n",
       "      <th></th>\n",
       "      <th>time</th>\n",
       "      <th>TREFMXAV_U</th>\n",
       "      <th>FLNS</th>\n",
       "      <th>FSNS</th>\n",
       "      <th>PRECT</th>\n",
       "      <th>PRSN</th>\n",
       "      <th>QBOT</th>\n",
       "      <th>TREFHT</th>\n",
       "      <th>UBOT</th>\n",
       "      <th>VBOT</th>\n",
       "      <th>lat</th>\n",
       "      <th>lon</th>\n",
       "      <th>year</th>\n",
       "      <th>month</th>\n",
       "    </tr>\n",
       "  </thead>\n",
       "  <tbody>\n",
       "    <tr>\n",
       "      <th>0</th>\n",
       "      <td>2006-01-02</td>\n",
       "      <td>0.232391</td>\n",
       "      <td>0.371393</td>\n",
       "      <td>0.075178</td>\n",
       "      <td>0.006015</td>\n",
       "      <td>2.050094e-10</td>\n",
       "      <td>0.217948</td>\n",
       "      <td>0.298555</td>\n",
       "      <td>0.681783</td>\n",
       "      <td>0.514916</td>\n",
       "      <td>53.246075</td>\n",
       "      <td>357.5</td>\n",
       "      <td>2006</td>\n",
       "      <td>1</td>\n",
       "    </tr>\n",
       "    <tr>\n",
       "      <th>1</th>\n",
       "      <td>2006-01-03</td>\n",
       "      <td>0.278081</td>\n",
       "      <td>0.074563</td>\n",
       "      <td>0.026442</td>\n",
       "      <td>0.103787</td>\n",
       "      <td>5.556072e-10</td>\n",
       "      <td>0.330316</td>\n",
       "      <td>0.357238</td>\n",
       "      <td>0.577123</td>\n",
       "      <td>0.635272</td>\n",
       "      <td>53.246075</td>\n",
       "      <td>357.5</td>\n",
       "      <td>2006</td>\n",
       "      <td>1</td>\n",
       "    </tr>\n",
       "    <tr>\n",
       "      <th>2</th>\n",
       "      <td>2006-01-04</td>\n",
       "      <td>0.273144</td>\n",
       "      <td>0.142934</td>\n",
       "      <td>0.011669</td>\n",
       "      <td>0.003755</td>\n",
       "      <td>1.755699e-09</td>\n",
       "      <td>0.293747</td>\n",
       "      <td>0.359437</td>\n",
       "      <td>0.527892</td>\n",
       "      <td>0.331802</td>\n",
       "      <td>53.246075</td>\n",
       "      <td>357.5</td>\n",
       "      <td>2006</td>\n",
       "      <td>1</td>\n",
       "    </tr>\n",
       "    <tr>\n",
       "      <th>3</th>\n",
       "      <td>2006-01-05</td>\n",
       "      <td>0.214745</td>\n",
       "      <td>0.263727</td>\n",
       "      <td>0.021133</td>\n",
       "      <td>0.000096</td>\n",
       "      <td>0.000000e+00</td>\n",
       "      <td>0.181172</td>\n",
       "      <td>0.276752</td>\n",
       "      <td>0.432510</td>\n",
       "      <td>0.383420</td>\n",
       "      <td>53.246075</td>\n",
       "      <td>357.5</td>\n",
       "      <td>2006</td>\n",
       "      <td>1</td>\n",
       "    </tr>\n",
       "    <tr>\n",
       "      <th>4</th>\n",
       "      <td>2006-01-06</td>\n",
       "      <td>0.181589</td>\n",
       "      <td>0.165882</td>\n",
       "      <td>0.016664</td>\n",
       "      <td>0.000009</td>\n",
       "      <td>0.000000e+00</td>\n",
       "      <td>0.159701</td>\n",
       "      <td>0.266983</td>\n",
       "      <td>0.452234</td>\n",
       "      <td>0.399266</td>\n",
       "      <td>53.246075</td>\n",
       "      <td>357.5</td>\n",
       "      <td>2006</td>\n",
       "      <td>1</td>\n",
       "    </tr>\n",
       "  </tbody>\n",
       "</table>\n",
       "</div>"
      ],
      "text/plain": [
       "         time  TREFMXAV_U      FLNS      FSNS     PRECT          PRSN  \\\n",
       "0  2006-01-02    0.232391  0.371393  0.075178  0.006015  2.050094e-10   \n",
       "1  2006-01-03    0.278081  0.074563  0.026442  0.103787  5.556072e-10   \n",
       "2  2006-01-04    0.273144  0.142934  0.011669  0.003755  1.755699e-09   \n",
       "3  2006-01-05    0.214745  0.263727  0.021133  0.000096  0.000000e+00   \n",
       "4  2006-01-06    0.181589  0.165882  0.016664  0.000009  0.000000e+00   \n",
       "\n",
       "       QBOT    TREFHT      UBOT      VBOT        lat    lon  year  month  \n",
       "0  0.217948  0.298555  0.681783  0.514916  53.246075  357.5  2006      1  \n",
       "1  0.330316  0.357238  0.577123  0.635272  53.246075  357.5  2006      1  \n",
       "2  0.293747  0.359437  0.527892  0.331802  53.246075  357.5  2006      1  \n",
       "3  0.181172  0.276752  0.432510  0.383420  53.246075  357.5  2006      1  \n",
       "4  0.159701  0.266983  0.452234  0.399266  53.246075  357.5  2006      1  "
      ]
     },
     "execution_count": 19,
     "metadata": {},
     "output_type": "execute_result"
    }
   ],
   "source": [
    "df.head()"
   ]
  },
  {
   "cell_type": "code",
   "execution_count": 20,
   "metadata": {},
   "outputs": [],
   "source": [
    "# TREFMXAV = daily maximum of average 2-m temperature\t\n",
    "# FLNS = Net longwave flux at surface\n",
    "# FSNS = Net solar flux at surface\n",
    "# PRECT = Total (convective and large-scale) precipitation rate (liq + ice)\n",
    "# PRSN\n",
    "# QBOT = Lowest model level water vapor mixing ratio\n",
    "# TREFHT = Reference height temperature\n",
    "# UBOT = Lowest model level zonal wind\n",
    "# VBOT = Lowest model level meridional wind\n",
    "# lat = latitude\n",
    "# lon = longitude\n",
    "\n",
    "# All are atmospheric measures"
   ]
  },
  {
   "cell_type": "code",
   "execution_count": 21,
   "metadata": {},
   "outputs": [
    {
     "data": {
      "text/html": [
       "<div>\n",
       "<style scoped>\n",
       "    .dataframe tbody tr th:only-of-type {\n",
       "        vertical-align: middle;\n",
       "    }\n",
       "\n",
       "    .dataframe tbody tr th {\n",
       "        vertical-align: top;\n",
       "    }\n",
       "\n",
       "    .dataframe thead th {\n",
       "        text-align: right;\n",
       "    }\n",
       "</style>\n",
       "<table border=\"1\" class=\"dataframe\">\n",
       "  <thead>\n",
       "    <tr style=\"text-align: right;\">\n",
       "      <th></th>\n",
       "      <th>TREFMXAV_U</th>\n",
       "      <th>FLNS</th>\n",
       "      <th>FSNS</th>\n",
       "      <th>PRECT</th>\n",
       "      <th>PRSN</th>\n",
       "      <th>QBOT</th>\n",
       "      <th>TREFHT</th>\n",
       "      <th>UBOT</th>\n",
       "      <th>VBOT</th>\n",
       "      <th>lat</th>\n",
       "      <th>lon</th>\n",
       "      <th>year</th>\n",
       "      <th>month</th>\n",
       "    </tr>\n",
       "  </thead>\n",
       "  <tbody>\n",
       "    <tr>\n",
       "      <th>count</th>\n",
       "      <td>27374.000000</td>\n",
       "      <td>27374.000000</td>\n",
       "      <td>27374.000000</td>\n",
       "      <td>27374.000000</td>\n",
       "      <td>2.737400e+04</td>\n",
       "      <td>27374.000000</td>\n",
       "      <td>27374.000000</td>\n",
       "      <td>27374.000000</td>\n",
       "      <td>27374.000000</td>\n",
       "      <td>2.737400e+04</td>\n",
       "      <td>27374.0</td>\n",
       "      <td>27374.000000</td>\n",
       "      <td>27374.000000</td>\n",
       "    </tr>\n",
       "    <tr>\n",
       "      <th>mean</th>\n",
       "      <td>0.395724</td>\n",
       "      <td>0.381017</td>\n",
       "      <td>0.306491</td>\n",
       "      <td>0.043592</td>\n",
       "      <td>1.307765e-03</td>\n",
       "      <td>0.349171</td>\n",
       "      <td>0.466302</td>\n",
       "      <td>0.546490</td>\n",
       "      <td>0.520315</td>\n",
       "      <td>5.324608e+01</td>\n",
       "      <td>357.5</td>\n",
       "      <td>2043.001352</td>\n",
       "      <td>6.526229</td>\n",
       "    </tr>\n",
       "    <tr>\n",
       "      <th>std</th>\n",
       "      <td>0.141399</td>\n",
       "      <td>0.192844</td>\n",
       "      <td>0.244208</td>\n",
       "      <td>0.064318</td>\n",
       "      <td>2.017940e-02</td>\n",
       "      <td>0.159064</td>\n",
       "      <td>0.146060</td>\n",
       "      <td>0.153545</td>\n",
       "      <td>0.145771</td>\n",
       "      <td>1.659148e-11</td>\n",
       "      <td>0.0</td>\n",
       "      <td>21.648346</td>\n",
       "      <td>3.447815</td>\n",
       "    </tr>\n",
       "    <tr>\n",
       "      <th>min</th>\n",
       "      <td>0.000000</td>\n",
       "      <td>0.000000</td>\n",
       "      <td>0.000000</td>\n",
       "      <td>0.000000</td>\n",
       "      <td>0.000000e+00</td>\n",
       "      <td>0.000000</td>\n",
       "      <td>0.000000</td>\n",
       "      <td>0.000000</td>\n",
       "      <td>0.000000</td>\n",
       "      <td>5.324607e+01</td>\n",
       "      <td>357.5</td>\n",
       "      <td>2006.000000</td>\n",
       "      <td>1.000000</td>\n",
       "    </tr>\n",
       "    <tr>\n",
       "      <th>25%</th>\n",
       "      <td>0.284774</td>\n",
       "      <td>0.229649</td>\n",
       "      <td>0.091804</td>\n",
       "      <td>0.002749</td>\n",
       "      <td>0.000000e+00</td>\n",
       "      <td>0.224803</td>\n",
       "      <td>0.352535</td>\n",
       "      <td>0.433225</td>\n",
       "      <td>0.407795</td>\n",
       "      <td>5.324607e+01</td>\n",
       "      <td>357.5</td>\n",
       "      <td>2024.000000</td>\n",
       "      <td>4.000000</td>\n",
       "    </tr>\n",
       "    <tr>\n",
       "      <th>50%</th>\n",
       "      <td>0.381271</td>\n",
       "      <td>0.361072</td>\n",
       "      <td>0.246034</td>\n",
       "      <td>0.016919</td>\n",
       "      <td>5.173054e-15</td>\n",
       "      <td>0.325876</td>\n",
       "      <td>0.456389</td>\n",
       "      <td>0.562096</td>\n",
       "      <td>0.524791</td>\n",
       "      <td>5.324607e+01</td>\n",
       "      <td>357.5</td>\n",
       "      <td>2043.000000</td>\n",
       "      <td>7.000000</td>\n",
       "    </tr>\n",
       "    <tr>\n",
       "      <th>75%</th>\n",
       "      <td>0.504428</td>\n",
       "      <td>0.507930</td>\n",
       "      <td>0.476662</td>\n",
       "      <td>0.059813</td>\n",
       "      <td>1.006942e-09</td>\n",
       "      <td>0.455755</td>\n",
       "      <td>0.584024</td>\n",
       "      <td>0.657349</td>\n",
       "      <td>0.625990</td>\n",
       "      <td>5.324607e+01</td>\n",
       "      <td>357.5</td>\n",
       "      <td>2062.000000</td>\n",
       "      <td>10.000000</td>\n",
       "    </tr>\n",
       "    <tr>\n",
       "      <th>max</th>\n",
       "      <td>1.000000</td>\n",
       "      <td>1.000000</td>\n",
       "      <td>1.000000</td>\n",
       "      <td>1.000000</td>\n",
       "      <td>1.000000e+00</td>\n",
       "      <td>1.000000</td>\n",
       "      <td>1.000000</td>\n",
       "      <td>1.000000</td>\n",
       "      <td>1.000000</td>\n",
       "      <td>5.324607e+01</td>\n",
       "      <td>357.5</td>\n",
       "      <td>2080.000000</td>\n",
       "      <td>12.000000</td>\n",
       "    </tr>\n",
       "  </tbody>\n",
       "</table>\n",
       "</div>"
      ],
      "text/plain": [
       "         TREFMXAV_U          FLNS          FSNS         PRECT          PRSN  \\\n",
       "count  27374.000000  27374.000000  27374.000000  27374.000000  2.737400e+04   \n",
       "mean       0.395724      0.381017      0.306491      0.043592  1.307765e-03   \n",
       "std        0.141399      0.192844      0.244208      0.064318  2.017940e-02   \n",
       "min        0.000000      0.000000      0.000000      0.000000  0.000000e+00   \n",
       "25%        0.284774      0.229649      0.091804      0.002749  0.000000e+00   \n",
       "50%        0.381271      0.361072      0.246034      0.016919  5.173054e-15   \n",
       "75%        0.504428      0.507930      0.476662      0.059813  1.006942e-09   \n",
       "max        1.000000      1.000000      1.000000      1.000000  1.000000e+00   \n",
       "\n",
       "               QBOT        TREFHT          UBOT          VBOT           lat  \\\n",
       "count  27374.000000  27374.000000  27374.000000  27374.000000  2.737400e+04   \n",
       "mean       0.349171      0.466302      0.546490      0.520315  5.324608e+01   \n",
       "std        0.159064      0.146060      0.153545      0.145771  1.659148e-11   \n",
       "min        0.000000      0.000000      0.000000      0.000000  5.324607e+01   \n",
       "25%        0.224803      0.352535      0.433225      0.407795  5.324607e+01   \n",
       "50%        0.325876      0.456389      0.562096      0.524791  5.324607e+01   \n",
       "75%        0.455755      0.584024      0.657349      0.625990  5.324607e+01   \n",
       "max        1.000000      1.000000      1.000000      1.000000  5.324607e+01   \n",
       "\n",
       "           lon          year         month  \n",
       "count  27374.0  27374.000000  27374.000000  \n",
       "mean     357.5   2043.001352      6.526229  \n",
       "std        0.0     21.648346      3.447815  \n",
       "min      357.5   2006.000000      1.000000  \n",
       "25%      357.5   2024.000000      4.000000  \n",
       "50%      357.5   2043.000000      7.000000  \n",
       "75%      357.5   2062.000000     10.000000  \n",
       "max      357.5   2080.000000     12.000000  "
      ]
     },
     "execution_count": 21,
     "metadata": {},
     "output_type": "execute_result"
    }
   ],
   "source": [
    "df.describe()"
   ]
  },
  {
   "cell_type": "code",
   "execution_count": 22,
   "metadata": {},
   "outputs": [
    {
     "data": {
      "text/html": [
       "<style type=\"text/css\">\n",
       "#T_9241f_row0_col0, #T_9241f_row0_col1, #T_9241f_row0_col2, #T_9241f_row0_col3, #T_9241f_row0_col4, #T_9241f_row0_col5, #T_9241f_row0_col6, #T_9241f_row0_col7, #T_9241f_row0_col8, #T_9241f_row0_col9, #T_9241f_row0_col10, #T_9241f_row1_col0, #T_9241f_row1_col1, #T_9241f_row1_col2, #T_9241f_row1_col3, #T_9241f_row1_col4, #T_9241f_row1_col5, #T_9241f_row1_col6, #T_9241f_row1_col7, #T_9241f_row1_col8, #T_9241f_row1_col9, #T_9241f_row1_col10 {\n",
       "  text-align: center;\n",
       "}\n",
       "</style>\n",
       "<table id=\"T_9241f\">\n",
       "  <thead>\n",
       "    <tr>\n",
       "      <th class=\"blank level0\" >&nbsp;</th>\n",
       "      <th id=\"T_9241f_level0_col0\" class=\"col_heading level0 col0\" >TREFMXAV_U</th>\n",
       "      <th id=\"T_9241f_level0_col1\" class=\"col_heading level0 col1\" >FLNS</th>\n",
       "      <th id=\"T_9241f_level0_col2\" class=\"col_heading level0 col2\" >FSNS</th>\n",
       "      <th id=\"T_9241f_level0_col3\" class=\"col_heading level0 col3\" >PRECT</th>\n",
       "      <th id=\"T_9241f_level0_col4\" class=\"col_heading level0 col4\" >PRSN</th>\n",
       "      <th id=\"T_9241f_level0_col5\" class=\"col_heading level0 col5\" >QBOT</th>\n",
       "      <th id=\"T_9241f_level0_col6\" class=\"col_heading level0 col6\" >TREFHT</th>\n",
       "      <th id=\"T_9241f_level0_col7\" class=\"col_heading level0 col7\" >UBOT</th>\n",
       "      <th id=\"T_9241f_level0_col8\" class=\"col_heading level0 col8\" >VBOT</th>\n",
       "      <th id=\"T_9241f_level0_col9\" class=\"col_heading level0 col9\" >lat</th>\n",
       "      <th id=\"T_9241f_level0_col10\" class=\"col_heading level0 col10\" >lon</th>\n",
       "    </tr>\n",
       "  </thead>\n",
       "  <tbody>\n",
       "    <tr>\n",
       "      <th id=\"T_9241f_level0_row0\" class=\"row_heading level0 row0\" >Meaning</th>\n",
       "      <td id=\"T_9241f_row0_col0\" class=\"data row0 col0\" >daily maximum of average 2-m temperature</td>\n",
       "      <td id=\"T_9241f_row0_col1\" class=\"data row0 col1\" >Net longwave flux at surface</td>\n",
       "      <td id=\"T_9241f_row0_col2\" class=\"data row0 col2\" >Net solar flux at surface</td>\n",
       "      <td id=\"T_9241f_row0_col3\" class=\"data row0 col3\" >Total (convective and large-scale) precipitation rate (liq + ice)</td>\n",
       "      <td id=\"T_9241f_row0_col4\" class=\"data row0 col4\" ></td>\n",
       "      <td id=\"T_9241f_row0_col5\" class=\"data row0 col5\" >Lowest model level water vapor mixing ratio</td>\n",
       "      <td id=\"T_9241f_row0_col6\" class=\"data row0 col6\" >Reference height temperature</td>\n",
       "      <td id=\"T_9241f_row0_col7\" class=\"data row0 col7\" >Lowest model level zonal wind</td>\n",
       "      <td id=\"T_9241f_row0_col8\" class=\"data row0 col8\" >Lowest model level meridional wind</td>\n",
       "      <td id=\"T_9241f_row0_col9\" class=\"data row0 col9\" >latitude</td>\n",
       "      <td id=\"T_9241f_row0_col10\" class=\"data row0 col10\" >longitude</td>\n",
       "    </tr>\n",
       "    <tr>\n",
       "      <th id=\"T_9241f_level0_row1\" class=\"row_heading level0 row1\" >Description</th>\n",
       "      <td id=\"T_9241f_row1_col0\" class=\"data row1 col0\" >The maximum value of the average air temperature recorded at 2 meters above the ground for a given day. It helps track how hot the air was at that height, considering temperature fluctuations during the day.</td>\n",
       "      <td id=\"T_9241f_row1_col1\" class=\"data row1 col1\" >The net amount of longwave radiation energy received by the Earth's surface. Longwave radiation refers to infrared radiation, which has a longer wavelength than visible light. The Earth's surface emits longwave radiation, and this flux is a measure of the flow of this radiation. This is important for understanding the Earth's energy balance, as longwave radiation plays a key role in warming the surface and affecting the climate.</td>\n",
       "      <td id=\"T_9241f_row1_col2\" class=\"data row1 col2\" >The net amount of solar radiation that reaches the Earth's surface. This flux plays a key role in warming the surface, driving weather patterns, and influencing the climate. The net solar flux accounts for both the incoming solar radiation and the portion that is reflected back into space, typically by clouds, ice, and other reflective surfaces.</td>\n",
       "      <td id=\"T_9241f_row1_col3\" class=\"data row1 col3\" >Represents the total rate of precipitation falling from the atmosphere, including both liquid (rain) and ice (snow, sleet) forms, and it accounts for both convective (localized) and large-scale (widespread) weather systems.</td>\n",
       "      <td id=\"T_9241f_row1_col4\" class=\"data row1 col4\" ></td>\n",
       "      <td id=\"T_9241f_row1_col5\" class=\"data row1 col5\" >Represents the amount of water vapor (in terms of the mixing ratio) in the lowest layer of the atmosphere. It is an important measurement for understanding humidity levels near the Earth's surface, which affects weather patterns like cloud formation, precipitation, and temperature.</td>\n",
       "      <td id=\"T_9241f_row1_col6\" class=\"data row1 col6\" >The temperature measured at a standard or reference height in the atmosphere. This is commonly used in climate models or weather forecasts to represent temperature at a specific point in the atmosphere, which helps in understanding temperature profiles and variations with altitude.</td>\n",
       "      <td id=\"T_9241f_row1_col7\" class=\"data row1 col7\" >Represents the zonal wind speed and direction at the lowest model level, which is important for understanding surface-level wind patterns, especially in terms of their east-west movement. This wind component influences weather patterns, such as the movement of weather systems across regions.</td>\n",
       "      <td id=\"T_9241f_row1_col8\" class=\"data row1 col8\" >Represents the meridional wind speed and direction at the lowest model level, providing information about how wind is moving in the north-south direction near the Earth's surface. This component is important for understanding large-scale atmospheric circulation and weather patterns, including the movement of air masses and systems like the jet stream.</td>\n",
       "      <td id=\"T_9241f_row1_col9\" class=\"data row1 col9\" >Measures how far a point is north or south of the equator.</td>\n",
       "      <td id=\"T_9241f_row1_col10\" class=\"data row1 col10\" >Measures how far a point is east or west of the Prime Meridian, which is located at 0° longitude.</td>\n",
       "    </tr>\n",
       "  </tbody>\n",
       "</table>\n"
      ],
      "text/plain": [
       "<pandas.io.formats.style.Styler at 0x1aaa0988890>"
      ]
     },
     "execution_count": 22,
     "metadata": {},
     "output_type": "execute_result"
    }
   ],
   "source": [
    "import pandas as pd\n",
    "\n",
    "# Set pandas display options to expand the column width\n",
    "pd.set_option('display.max_colwidth', None)  # This will allow the full text to be displayed\n",
    "\n",
    "# Column names\n",
    "name = ['TREFMXAV_U', 'FLNS', 'FSNS', 'PRECT', 'PRSN', 'QBOT', 'TREFHT', 'UBOT', 'VBOT', 'lat', 'lon']\n",
    "\n",
    "# Create the dataframe with 2 rows (empty values for now)\n",
    "df2 = pd.DataFrame([[''] * len(name), [''] * len(name)], columns=name)\n",
    "\n",
    "# Set the row index labels\n",
    "df2.index = ['Meaning', 'Description']\n",
    "\n",
    "# Assign specific meanings to the 'Meaning' row\n",
    "meanings = [\n",
    "    \"daily maximum of average 2-m temperature\",  \n",
    "    \"Net longwave flux at surface\",              \n",
    "    \"Net solar flux at surface\",                 \n",
    "    \"Total (convective and large-scale) precipitation rate (liq + ice)\",  \n",
    "    \"\",  \n",
    "    \"Lowest model level water vapor mixing ratio\",  \n",
    "    \"Reference height temperature\",              \n",
    "    \"Lowest model level zonal wind\",             \n",
    "    \"Lowest model level meridional wind\",        \n",
    "    \"latitude\",                                  \n",
    "    \"longitude\"                                  \n",
    "]\n",
    "\n",
    "# Assign descriptions to the 'Description' row\n",
    "descriptions = [\n",
    "    \"The maximum value of the average air temperature recorded at 2 meters above the ground for a given day. It helps track how hot the air was at that height, considering temperature fluctuations during the day.\",  \n",
    "    \"The net amount of longwave radiation energy received by the Earth's surface. Longwave radiation refers to infrared radiation, which has a longer wavelength than visible light. The Earth's surface emits longwave radiation, and this flux is a measure of the flow of this radiation. This is important for understanding the Earth's energy balance, as longwave radiation plays a key role in warming the surface and affecting the climate.\",              \n",
    "    \"The net amount of solar radiation that reaches the Earth's surface. This flux plays a key role in warming the surface, driving weather patterns, and influencing the climate. The net solar flux accounts for both the incoming solar radiation and the portion that is reflected back into space, typically by clouds, ice, and other reflective surfaces.\",  \n",
    "    \"Represents the total rate of precipitation falling from the atmosphere, including both liquid (rain) and ice (snow, sleet) forms, and it accounts for both convective (localized) and large-scale (widespread) weather systems.\",  \n",
    "    \"\",  \n",
    "    \"Represents the amount of water vapor (in terms of the mixing ratio) in the lowest layer of the atmosphere. It is an important measurement for understanding humidity levels near the Earth's surface, which affects weather patterns like cloud formation, precipitation, and temperature.\",  \n",
    "    \"The temperature measured at a standard or reference height in the atmosphere. This is commonly used in climate models or weather forecasts to represent temperature at a specific point in the atmosphere, which helps in understanding temperature profiles and variations with altitude.\",              \n",
    "    \"Represents the zonal wind speed and direction at the lowest model level, which is important for understanding surface-level wind patterns, especially in terms of their east-west movement. This wind component influences weather patterns, such as the movement of weather systems across regions.\",             \n",
    "    \"Represents the meridional wind speed and direction at the lowest model level, providing information about how wind is moving in the north-south direction near the Earth's surface. This component is important for understanding large-scale atmospheric circulation and weather patterns, including the movement of air masses and systems like the jet stream.\",        \n",
    "    \"Measures how far a point is north or south of the equator.\",                                  \n",
    "    \"Measures how far a point is east or west of the Prime Meridian, which is located at 0° longitude.\"                                  \n",
    "]\n",
    "\n",
    "# Update the rows with the meanings and descriptions\n",
    "df2.loc['Meaning'] = meanings\n",
    "df2.loc['Description'] = descriptions\n",
    "\n",
    "# Center-align the text in the DataFrame\n",
    "df2.style.set_properties(**{'text-align': 'center'})\n"
   ]
  },
  {
   "cell_type": "code",
   "execution_count": 23,
   "metadata": {},
   "outputs": [],
   "source": [
    "# Convert time to datetime\n",
    "import pandas as pd\n",
    "\n",
    "df['time'] = pd.to_datetime(df['time'])"
   ]
  },
  {
   "cell_type": "code",
   "execution_count": 24,
   "metadata": {},
   "outputs": [
    {
     "name": "stdout",
     "output_type": "stream",
     "text": [
      "                time  TREFMXAV_U      FLNS      FSNS     PRECT      PRSN  \\\n",
      "time        1.000000    0.188005  0.028905  0.063487 -0.017728 -0.031175   \n",
      "TREFMXAV_U  0.188005    1.000000  0.219688  0.721310 -0.103835 -0.116976   \n",
      "FLNS        0.028905    0.219688  1.000000  0.683627 -0.473853 -0.059749   \n",
      "FSNS        0.063487    0.721310  0.683627  1.000000 -0.329469 -0.064145   \n",
      "PRECT      -0.017728   -0.103835 -0.473853 -0.329469  1.000000  0.117777   \n",
      "PRSN       -0.031175   -0.116976 -0.059749 -0.064145  0.117777  1.000000   \n",
      "QBOT        0.157445    0.791619 -0.304497  0.251489  0.213600 -0.078040   \n",
      "TREFHT      0.177089    0.967620  0.025457  0.605906 -0.026978 -0.123028   \n",
      "UBOT        0.013412   -0.167388 -0.028396 -0.169522 -0.000641 -0.051850   \n",
      "VBOT       -0.011024   -0.126361 -0.273296 -0.335963  0.252043 -0.037847   \n",
      "lat              NaN         NaN       NaN       NaN       NaN       NaN   \n",
      "lon              NaN         NaN       NaN       NaN       NaN       NaN   \n",
      "year        0.999911    0.185380  0.030236  0.064743 -0.018368 -0.030491   \n",
      "month       0.013185    0.200909 -0.099318 -0.091232  0.048473 -0.052082   \n",
      "\n",
      "                QBOT    TREFHT      UBOT      VBOT  lat  lon      year  \\\n",
      "time        0.157445  0.177089  0.013412 -0.011024  NaN  NaN  0.999911   \n",
      "TREFMXAV_U  0.791619  0.967620 -0.167388 -0.126361  NaN  NaN  0.185380   \n",
      "FLNS       -0.304497  0.025457 -0.028396 -0.273296  NaN  NaN  0.030236   \n",
      "FSNS        0.251489  0.605906 -0.169522 -0.335963  NaN  NaN  0.064743   \n",
      "PRECT       0.213600 -0.026978 -0.000641  0.252043  NaN  NaN -0.018368   \n",
      "PRSN       -0.078040 -0.123028 -0.051850 -0.037847  NaN  NaN -0.030491   \n",
      "QBOT        1.000000  0.876221 -0.142494  0.023922  NaN  NaN  0.153512   \n",
      "TREFHT      0.876221  1.000000 -0.125189 -0.084132  NaN  NaN  0.173985   \n",
      "UBOT       -0.142494 -0.125189  1.000000  0.248370  NaN  NaN  0.013715   \n",
      "VBOT        0.023922 -0.084132  0.248370  1.000000  NaN  NaN -0.010967   \n",
      "lat              NaN       NaN       NaN       NaN  NaN  NaN       NaN   \n",
      "lon              NaN       NaN       NaN       NaN  NaN  NaN       NaN   \n",
      "year        0.153512  0.173985  0.013715 -0.010967  NaN  NaN  1.000000   \n",
      "month       0.297921  0.236861 -0.023887 -0.005448  NaN  NaN -0.000100   \n",
      "\n",
      "               month  \n",
      "time        0.013185  \n",
      "TREFMXAV_U  0.200909  \n",
      "FLNS       -0.099318  \n",
      "FSNS       -0.091232  \n",
      "PRECT       0.048473  \n",
      "PRSN       -0.052082  \n",
      "QBOT        0.297921  \n",
      "TREFHT      0.236861  \n",
      "UBOT       -0.023887  \n",
      "VBOT       -0.005448  \n",
      "lat              NaN  \n",
      "lon              NaN  \n",
      "year       -0.000100  \n",
      "month       1.000000  \n"
     ]
    }
   ],
   "source": [
    "# Initial correlation matrix\n",
    "corr_matrix = df.corr()\n",
    "print(corr_matrix)"
   ]
  },
  {
   "cell_type": "markdown",
   "metadata": {},
   "source": [
    "We can see from this matrix that PRECT & PRSN are not good predictors of TREFMXAV_U."
   ]
  },
  {
   "cell_type": "code",
   "execution_count": 25,
   "metadata": {},
   "outputs": [
    {
     "name": "stdout",
     "output_type": "stream",
     "text": [
      "  feature       VIF\n",
      "0    FSNS  2.520531\n",
      "1    QBOT  2.520531\n"
     ]
    }
   ],
   "source": [
    "# Import necessary package\n",
    "from statsmodels.stats.outliers_influence import variance_inflation_factor\n",
    "\n",
    "# Select variables to check for multicollinearity\n",
    "X = df[['FSNS', 'QBOT']]\n",
    "\n",
    "# Create VIF dataframe containing these columns\n",
    "vif_data = pd.DataFrame()\n",
    "vif_data['feature'] = X.columns\n",
    "\n",
    "# Calculate VIF for each feature\n",
    "vif_data['VIF'] = [variance_inflation_factor(X.values, i)\n",
    "                   for i in range(len(X.columns))]\n",
    "# Show VIF results\n",
    "print(vif_data)"
   ]
  },
  {
   "cell_type": "markdown",
   "metadata": {},
   "source": [
    "We see here that FSNS (solar flux) and QBOT (water vapour) are not experiencing significant multicollinearity, so can be used together in a regression model"
   ]
  },
  {
   "cell_type": "code",
   "execution_count": 26,
   "metadata": {},
   "outputs": [
    {
     "name": "stdout",
     "output_type": "stream",
     "text": [
      "                FSNS      QBOT  TREFMXAV_U\n",
      "FSNS        1.000000  0.251489    0.721310\n",
      "QBOT        0.251489  1.000000    0.791619\n",
      "TREFMXAV_U  0.721310  0.791619    1.000000\n"
     ]
    }
   ],
   "source": [
    "# Calculate the correlation matrix\n",
    "correlation_matrix = df[['FSNS', 'QBOT', 'TREFMXAV_U']].corr()\n",
    "\n",
    "# Display the correlation matrix\n",
    "print(correlation_matrix)"
   ]
  },
  {
   "cell_type": "code",
   "execution_count": 27,
   "metadata": {},
   "outputs": [
    {
     "name": "stdout",
     "output_type": "stream",
     "text": [
      "                            OLS Regression Results                            \n",
      "==============================================================================\n",
      "Dep. Variable:             TREFMXAV_U   R-squared:                       0.918\n",
      "Model:                            OLS   Adj. R-squared:                  0.918\n",
      "Method:                 Least Squares   F-statistic:                 1.528e+05\n",
      "Date:                Sat, 08 Feb 2025   Prob (F-statistic):               0.00\n",
      "Time:                        11:27:24   Log-Likelihood:                 48904.\n",
      "No. Observations:               27374   AIC:                        -9.780e+04\n",
      "Df Residuals:                   27371   BIC:                        -9.778e+04\n",
      "Df Model:                           2                                         \n",
      "Covariance Type:            nonrobust                                         \n",
      "==============================================================================\n",
      "                 coef    std err          t      P>|t|      [0.025      0.975]\n",
      "------------------------------------------------------------------------------\n",
      "const          0.0946      0.001    153.239      0.000       0.093       0.096\n",
      "FSNS           0.3228      0.001    311.346      0.000       0.321       0.325\n",
      "QBOT           0.5791      0.002    363.805      0.000       0.576       0.582\n",
      "==============================================================================\n",
      "Omnibus:                     1129.895   Durbin-Watson:                   0.896\n",
      "Prob(Omnibus):                  0.000   Jarque-Bera (JB):             1886.926\n",
      "Skew:                           0.357   Prob(JB):                         0.00\n",
      "Kurtosis:                       4.070   Cond. No.                         7.61\n",
      "==============================================================================\n",
      "\n",
      "Notes:\n",
      "[1] Standard Errors assume that the covariance matrix of the errors is correctly specified.\n"
     ]
    }
   ],
   "source": [
    "import statsmodels.api as sm\n",
    "\n",
    "# Define the independent variables and target variable\n",
    "X = df[['FSNS', 'QBOT']]\n",
    "y = df['TREFMXAV_U']\n",
    "\n",
    "# Add a constant term\n",
    "X = sm.add_constant(X)\n",
    "\n",
    "# Fit the model\n",
    "model = sm.OLS(y, X).fit()\n",
    "\n",
    "# Display the summary of the regression results\n",
    "print(model.summary())"
   ]
  },
  {
   "cell_type": "markdown",
   "metadata": {},
   "source": [
    "The OLS regression model shows that with an R-squared value of 0.918, 91.8% of the variance is explained by FSNS and QBOT. "
   ]
  },
  {
   "cell_type": "code",
   "execution_count": 28,
   "metadata": {},
   "outputs": [
    {
     "data": {
      "image/png": "[encoded data removed]",
      "text/plain": [
       "<Figure size 640x480 with 1 Axes>"
      ]
     },
     "metadata": {},
     "output_type": "display_data"
    },
    {
     "data": {
      "image/png": "[encoded data removed]",
      "text/plain": [
       "<Figure size 640x480 with 1 Axes>"
      ]
     },
     "metadata": {},
     "output_type": "display_data"
    }
   ],
   "source": [
    "import matplotlib.pyplot as plt\n",
    "\n",
    "# Scatter plot for FSNS vs. TREFMXAV_U\n",
    "plt.scatter(x='FSNS', y='TREFMXAV_U', data=df)\n",
    "plt.title('FSNS vs. TREFMXAV_U')\n",
    "plt.show()\n",
    "\n",
    "# Scatter plot for QBOT vs. TREFMXAV_U\n",
    "plt.scatter(x='QBOT', y='TREFMXAV_U', data=df)\n",
    "plt.title('QBOT vs. TREFMXAV_U')\n",
    "plt.show()\n"
   ]
  },
  {
   "cell_type": "markdown",
   "metadata": {},
   "source": [
    "TREFHT (atmospheric temperature) looks like it is also influenced by FSNS & QBOT. First check the correlation matrix:"
   ]
  },
  {
   "cell_type": "code",
   "execution_count": 29,
   "metadata": {},
   "outputs": [
    {
     "name": "stdout",
     "output_type": "stream",
     "text": [
      "            FSNS      QBOT    TREFHT\n",
      "FSNS    1.000000  0.251489  0.605906\n",
      "QBOT    0.251489  1.000000  0.876221\n",
      "TREFHT  0.605906  0.876221  1.000000\n"
     ]
    }
   ],
   "source": [
    "# Calculate the correlation matrix\n",
    "correlation_matrix = df[['FSNS', 'QBOT', 'TREFHT']].corr()\n",
    "\n",
    "# Display the correlation matrix\n",
    "print(correlation_matrix)"
   ]
  },
  {
   "cell_type": "markdown",
   "metadata": {},
   "source": [
    "QBOT is more highly correlated than FSNS, but we can check for significance:"
   ]
  },
  {
   "cell_type": "code",
   "execution_count": 30,
   "metadata": {},
   "outputs": [
    {
     "name": "stdout",
     "output_type": "stream",
     "text": [
      "                            OLS Regression Results                            \n",
      "==============================================================================\n",
      "Dep. Variable:                 TREFHT   R-squared:                       0.926\n",
      "Model:                            OLS   Adj. R-squared:                  0.926\n",
      "Method:                 Least Squares   F-statistic:                 1.724e+05\n",
      "Date:                Sat, 08 Feb 2025   Prob (F-statistic):               0.00\n",
      "Time:                        11:27:24   Log-Likelihood:                 49538.\n",
      "No. Observations:               27374   AIC:                        -9.907e+04\n",
      "Df Residuals:                   27371   BIC:                        -9.905e+04\n",
      "Df Model:                           2                                         \n",
      "Covariance Type:            nonrobust                                         \n",
      "==============================================================================\n",
      "                 coef    std err          t      P>|t|      [0.025      0.975]\n",
      "------------------------------------------------------------------------------\n",
      "const          0.1431      0.001    237.246      0.000       0.142       0.144\n",
      "FSNS           0.2462      0.001    242.997      0.000       0.244       0.248\n",
      "QBOT           0.7095      0.002    456.215      0.000       0.706       0.713\n",
      "==============================================================================\n",
      "Omnibus:                      388.785   Durbin-Watson:                   0.941\n",
      "Prob(Omnibus):                  0.000   Jarque-Bera (JB):              734.990\n",
      "Skew:                           0.025   Prob(JB):                    2.51e-160\n",
      "Kurtosis:                       3.801   Cond. No.                         7.61\n",
      "==============================================================================\n",
      "\n",
      "Notes:\n",
      "[1] Standard Errors assume that the covariance matrix of the errors is correctly specified.\n"
     ]
    }
   ],
   "source": [
    "import statsmodels.api as sm\n",
    "\n",
    "# Define independent variables (FSNS and QBOT) and dependent variable (TREFHT)\n",
    "X = df[['FSNS', 'QBOT']]\n",
    "y = df['TREFHT']\n",
    "\n",
    "# Add a constant for the intercept\n",
    "X = sm.add_constant(X)\n",
    "\n",
    "# Fit the regression model\n",
    "model = sm.OLS(y, X).fit()\n",
    "\n",
    "# Print the summary of regression results\n",
    "print(model.summary())\n"
   ]
  },
  {
   "cell_type": "markdown",
   "metadata": {},
   "source": [
    "Regression model shows both are statistically significant (p < 0.0001), and the model explains 92.6% of the variance in atmospheric temperature - very high. However when looking at the coefficients:\n",
    "QBOT coefficient: 0.7095\n",
    "FSNS coefficient: 0.2462\n",
    "Therefore holding FSNS constant, a 1-unit increase in QBOT leads to a 0.7095 increase in TREFHT, whereas FSNS only increases TREFHT by 0.2462.\n",
    "When only using QBOT as a single predicotr:"
   ]
  },
  {
   "cell_type": "code",
   "execution_count": 31,
   "metadata": {},
   "outputs": [
    {
     "name": "stdout",
     "output_type": "stream",
     "text": [
      "                            OLS Regression Results                            \n",
      "==============================================================================\n",
      "Dep. Variable:                 TREFHT   R-squared:                       0.768\n",
      "Model:                            OLS   Adj. R-squared:                  0.768\n",
      "Method:                 Least Squares   F-statistic:                 9.049e+04\n",
      "Date:                Sat, 08 Feb 2025   Prob (F-statistic):               0.00\n",
      "Time:                        11:27:24   Log-Likelihood:                 33802.\n",
      "No. Observations:               27374   AIC:                        -6.760e+04\n",
      "Df Residuals:                   27372   BIC:                        -6.758e+04\n",
      "Df Model:                           1                                         \n",
      "Covariance Type:            nonrobust                                         \n",
      "==============================================================================\n",
      "                 coef    std err          t      P>|t|      [0.025      0.975]\n",
      "------------------------------------------------------------------------------\n",
      "const          0.1854      0.001    180.621      0.000       0.183       0.187\n",
      "QBOT           0.8046      0.003    300.816      0.000       0.799       0.810\n",
      "==============================================================================\n",
      "Omnibus:                     1118.978   Durbin-Watson:                   0.687\n",
      "Prob(Omnibus):                  0.000   Jarque-Bera (JB):             1259.671\n",
      "Skew:                           0.517   Prob(JB):                    2.92e-274\n",
      "Kurtosis:                       3.189   Cond. No.                         7.07\n",
      "==============================================================================\n",
      "\n",
      "Notes:\n",
      "[1] Standard Errors assume that the covariance matrix of the errors is correctly specified.\n"
     ]
    }
   ],
   "source": [
    "X_qbot = sm.add_constant(df[['QBOT']])\n",
    "model_qbot = sm.OLS(df['TREFHT'], X_qbot).fit()\n",
    "print(model_qbot.summary())"
   ]
  },
  {
   "cell_type": "markdown",
   "metadata": {},
   "source": [
    "However when investigating QBOT alone here, we see it only explains 76.8% of variance - FSNS still contributes well as a predictor of TREFHT."
   ]
  },
  {
   "cell_type": "markdown",
   "metadata": {},
   "source": [
    "Positive correlation is shown in both graphs"
   ]
  },
  {
   "cell_type": "markdown",
   "metadata": {},
   "source": [
    "Main argument: Higher solar flux increases land and atmospheric temperatures, and water vapor amplifies this effect through greenhouse warming and cloud interactions."
   ]
  },
  {
   "cell_type": "markdown",
   "metadata": {},
   "source": [
    "What are greenhouse gases?\n",
    "Greenhouse gases are components of the atmosphere that absorb infrared radiation from the sun as heat. Around half of the solar radiation is absorbed by the Earth's surface, causing it to warm (https://www.bgs.ac.uk/discovering-geology/climate-change/how-does-the-greenhouse-effect-work/). Water vapour is the highest contributer to the greenhouse gas effect\n",
    "\n",
    "What is solar flux?\n",
    "Solar flux is the amount of energy (solar radiation) recieved from the sun in a given area. This means that more solar radiation reaching the Earth's surface increases temperatures on earth. Different regions of Earth recieve differing amounts of solar flux depending on latitude, time, and equinoxes - e.g. The tropics (from 0 to 23.5° latitude) receive about 90% of the energy compared to the equator,  the mid-latitudes (45°) roughly 70%, and the Arctic and Antarctic Circles about 40%. (https://earthobservatory.nasa.gov/features/EnergyBalance)\n",
    "\n",
    "How does water vapour influence cloud coverage?\n",
    "Clouds form when water vapour cools and condenses. Clouds do reflect sunlight, however high-altitude clouds (such as cirrus) trap heat radiated from earth's surface, particularly at night, and could lead to higher temperatures in the atmosphere (higher TREFHT) - this might be why QBOT and TREFHT are highly correlated. https://en.wikipedia.org/wiki/Cirrus_cloud - go to 'Effects on climate' section.\n",
    "\n",
    "Feedback loop:\n",
    "Increased temperature → more evaporation → more water vapor → stronger greenhouse effect → further warming."
   ]
  },
  {
   "cell_type": "markdown",
   "metadata": {},
   "source": [
    "Literature "
   ]
  },
  {
   "cell_type": "markdown",
   "metadata": {},
   "source": [
    "Potential literature citation:\n",
    "- Earth's temperature has been rising steadily over time (https://www.sciencedirect.com/science/article/pii/S2772662223000772):\n",
    " -- The average yearly temperature has increased by 0.0067 degrees Celsius over 172 years since 1850.\n",
    " -- The trend has accelerated with yearly temperature increases of 0.0155 (since 1951) and 0.0198 (since 1971).\n",
    "\n",
    "How could solar flux (FSNS) and water vapour (QBOT) be increasing temperatures?:\n",
    "- 30% of the flux from solar radiation is reflected from Earth, and the remainder is absorbed, warming the surface and atmosphere. https://www.imperial.ac.uk/media/imperial-college/grantham-institute/public/publications/briefing-papers/Solar-Influences-on-Climate---Grantham-BP-5.pdf:\n",
    " -- Much of the heat radiation emitted by the surface is trapped within the atmosphere by greenhouse gases - mainly water vapour!\n",
    " -- good graph in this paper showing Time series of the mean temperature of the summer northern hemisphere upper troposphere and the solar flux (figure 18).\n",
    " "
   ]
  }
 ],
 "metadata": {
  "kernelspec": {
   "display_name": "base",
   "language": "python",
   "name": "python3"
  },
  "language_info": {
   "codemirror_mode": {
    "name": "ipython",
    "version": 3
   },
   "file_extension": ".py",
   "mimetype": "text/x-python",
   "name": "python",
   "nbconvert_exporter": "python",
   "pygments_lexer": "ipython3",
   "version": "3.11.7"
  }
 },
 "nbformat": 4,
 "nbformat_minor": 2
}
