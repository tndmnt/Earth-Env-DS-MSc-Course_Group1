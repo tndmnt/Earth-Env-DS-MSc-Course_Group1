{
 "cells": [
  {
   "cell_type": "markdown",
   "id": "7d0a2a7d-3ee0-4b8a-9fd0-35324635d199",
   "metadata": {},
   "source": [
    "#### Part 1 - Introduction"
   ]
  },
  {
   "cell_type": "markdown",
   "id": "082e8a65-e83e-4485-a90f-eabd3a6da152",
   "metadata": {},
   "source": [
    "Clear context, integrates domain knowledge, cites literature, highlights data significance."
   ]
  },
  {
   "cell_type": "markdown",
   "id": "76e874b4-2655-4544-8c4a-910d46d160c7",
   "metadata": {},
   "source": [
    "#### Part 2 - Research Question"
   ]
  },
  {
   "cell_type": "markdown",
   "id": "3ea2318d-34c8-46f2-b1ad-947b7b030956",
   "metadata": {},
   "source": [
    "Innovative problem definition, clear objectives, critical thinking."
   ]
  },
  {
   "cell_type": "markdown",
   "id": "a988cf2e-cf47-44a1-a7d7-2191a789ab63",
   "metadata": {},
   "source": [
    "#### Part 3 - Methodology"
   ]
  },
  {
   "cell_type": "markdown",
   "id": "491a8bb6-1c7f-477f-8393-f138a16a21c2",
   "metadata": {},
   "source": [
    "Scientifically justified methods, reproducible steps, technical depth."
   ]
  },
  {
   "cell_type": "markdown",
   "id": "170ddbf3-9a66-44c1-bf96-23b30f1e6cd6",
   "metadata": {},
   "source": [
    "##### 3A. Data Description"
   ]
  },
  {
   "cell_type": "code",
   "execution_count": null,
   "id": "5ab90a2a-3f3e-4f91-a15c-ac7e09cec55c",
   "metadata": {},
   "outputs": [],
   "source": [
    "import pandas as pd\n",
    "\n",
    "store_data = pd.read_csv('store.csv')\n",
    "\n",
    "# Display information\n",
    "print(store_data.head())\n",
    "print(store_data.info())"
   ]
  }
 ],
 "metadata": {
  "kernelspec": {
   "display_name": "Python 3 (ipykernel)",
   "language": "python",
   "name": "python3"
  },
  "language_info": {
   "codemirror_mode": {
    "name": "ipython",
    "version": 3
   },
   "file_extension": ".py",
   "mimetype": "text/x-python",
   "name": "python",
   "nbconvert_exporter": "python",
   "pygments_lexer": "ipython3",
   "version": "3.12.2"
  }
 },
 "nbformat": 4,
 "nbformat_minor": 5
}
