{
 "cells": [
  {
   "cell_type": "markdown",
   "id": "06e8ea78-340b-406e-92d1-2f96e3eddffe",
   "metadata": {
    "id": "06e8ea78-340b-406e-92d1-2f96e3eddffe"
   },
   "source": [
    "# Project Reflection (Group 1)"
   ]
  },
  {
   "cell_type": "markdown",
   "id": "ae0a8a7d-78dd-4d4a-9858-8eae18b9be3b",
   "metadata": {
    "id": "ae0a8a7d-78dd-4d4a-9858-8eae18b9be3b"
   },
   "source": [
    "### About the Project"
   ]
  },
  {
   "cell_type": "markdown",
   "id": "80e1fc68-0fd8-4135-84ff-d5a0fd4a0245",
   "metadata": {
    "id": "80e1fc68-0fd8-4135-84ff-d5a0fd4a0245"
   },
   "source": [
    "In this project, we analyzed Earth’s surface temperature trends and extreme heat events using climate projection data from 2006 to 2080 to determine long-term warming patterns, key influencing factors, and examined seasonal variations. We performed data preprocessing, exploratory data analysis (EDA), correlation-based factor analysis, and time series analysis  which confirmed a year-over-year warming trend, with extreme heat days becoming more frequent. "
   ]
  },
  {
   "cell_type": "markdown",
   "id": "286ab333-330f-41ea-a692-afe4031cdd83",
   "metadata": {
    "id": "286ab333-330f-41ea-a692-afe4031cdd83"
   },
   "source": [
    "### Challenges Encountered"
   ]
  },
  {
   "cell_type": "markdown",
   "id": "b6bfd5ac-19e6-47c9-9223-be8fc444bd8f",
   "metadata": {},
   "source": [
    "One of the main challenges we faced during the project was interpreting meteorological interactions. Understanding how different factors such as FSNS, FLNS, wind, and precipitation interact was complex. Some variables exhibited non-linear relationships, making simple correlation analysis insufficient for capturing the full dynamics of temperature variations. Another challenge was comparing seasonal influences across years. Differentiating the role of temperature drivers between seasons required careful statistical comparisons."
   ]
  },
  {
   "cell_type": "markdown",
   "id": "lLhOC8RHycZf",
   "metadata": {
    "id": "lLhOC8RHycZf"
   },
   "source": [
    "### Learning Outcomes"
   ]
  },
  {
   "cell_type": "markdown",
   "id": "j2k3W-dtyci3",
   "metadata": {
    "id": "j2k3W-dtyci3"
   },
   "source": [
    "This project has not only deepened our understanding of climate data analysis but also enriched us with valuable experience in multiple aspects, including data processing, visualization, and time series analysis. In the initial stage of data analysis, we strengthened our ability to use Pandas for data cleaning. We also enhanced our skills in applying Matplotlib and Seaborn for data visualization, including time series plots, histograms, box plots, heatmaps, and density distribution plots. Additionally, we learned fundamental methods of time series analysis, such as plotting time series curves to observe whether variables exhibit significant upward or downward trends, applying Moving Average to reduce short-term fluctuations and smooth data for better long-term trend observation, and classifying time series data by season rather than only analyzing at the annual scale to help identify periodic patterns. Furthermore, when interpreting results, we learned to integrate literature research and domain knowledge to make informed and reasonable inferences. Through this project and literature review, we enhanced our understanding of scientific research methodology, including research question formulation, literature review, research design, data processing and analysis, result interpretation and discussion, and drawing conclusions.\n",
    "\n",
    "During the project, we deeply realized the importance of documentation and team collaboration. By writing clear code comments, the code became more readable and maintainable. Properly dividing Markdown explanations and code sections in Jupyter Notebook made the overall project logic more coherent. Managing the project through GitHub improved team collaboration efficiency and standardized version control. When analyzing results, exchanging different perspectives with team members and integrating multiple opinions helped optimize the data analysis approach.\n",
    "\n",
    "In terms of results reporting, we have realized the importance of ensuring that the presentation content is highly relevant to the report output, clearly demonstrating findings consistent with the report’s conclusions. Additionally, definitions of certain concepts should be more precise and supported by references. For example, an extreme heatwave event is generally defined as a prolonged period (typically several days or longer) of abnormally high temperatures in a specific region, and also the different IPCC standards of extreme heat events for different countries. In this study, it would be more appropriate to revise the identification of extreme heatwave events to the number of extreme heat days."
   ]
  },
  {
   "cell_type": "markdown",
   "id": "bc48c662-6ba1-4d53-80d8-b6d400c66092",
   "metadata": {
    "id": "bc48c662-6ba1-4d53-80d8-b6d400c66092"
   },
   "source": [
    "### Future Improvements"
   ]
  },
  {
   "cell_type": "markdown",
   "id": "f231e272-92d5-461d-a9c5-26b95c624acb",
   "metadata": {
    "id": "f231e272-92d5-461d-a9c5-26b95c624acb"
   },
   "source": [
    "One area for improvement is defining extreme heat thresholds more precisely. While we used 305K and 308K as standard thresholds, the impact of extreme heat may vary based on regional differences and human adaptation capacity. Future research could incorporate location-based heat thresholds to enhance the accuracy of heat stress analysis. Another improvement would be the use of machine learning models for temperature prediction. Instead of relying solely on correlation analysis, we could apply regression models such as Random Forest or XGBoost to predict future temperatures based on climate variables. This would provide more robust and data-driven insights into temperature forecasting. Additionally, we could expand the analysis to multiple locations. This study focused on a single location near Manchester, but a broader analysis covering multiple geographic areas could reveal regional climate differences and improve predictive capabilities. Furthermore, integrating real-world climate events, such as historical heatwaves and climate anomalies, would help validate findings and improve model accuracy"
   ]
  }
 ],
 "metadata": {
  "colab": {
   "provenance": []
  },
  "kernelspec": {
   "display_name": "Python 3 (ipykernel)",
   "language": "python",
   "name": "python3"
  },
  "language_info": {
   "codemirror_mode": {
    "name": "ipython",
    "version": 3
   },
   "file_extension": ".py",
   "mimetype": "text/x-python",
   "name": "python",
   "nbconvert_exporter": "python",
   "pygments_lexer": "ipython3",
   "version": "3.12.2"
  }
 },
 "nbformat": 4,
 "nbformat_minor": 5
}
