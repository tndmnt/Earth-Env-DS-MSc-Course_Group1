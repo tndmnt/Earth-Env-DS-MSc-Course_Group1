{
 "cells": [
  {
   "cell_type": "markdown",
   "id": "06e8ea78-340b-406e-92d1-2f96e3eddffe",
   "metadata": {},
   "source": [
    "# Project Reflection (Group 1)"
   ]
  },
  {
   "cell_type": "markdown",
   "id": "ae0a8a7d-78dd-4d4a-9858-8eae18b9be3b",
   "metadata": {},
   "source": [
    "### About the Project"
   ]
  },
  {
   "cell_type": "markdown",
   "id": "80e1fc68-0fd8-4135-84ff-d5a0fd4a0245",
   "metadata": {},
   "source": [
    "This project focused on analysing Earth’s surface temperature trends and extreme heat events using\n",
    "climate projection data from 2006 to 2080. The primary objective was to investigate whether Earth’s\n",
    "temperature is increasing over time, identify days with extreme heat (305K for moderate heat risk and\n",
    "308K for extreme heat risk), and analyse key factors influencing temperature variations. This included\n",
    "assessing seasonal changes and differences between extreme and non-extreme heat days. By\n",
    "understanding these patterns, we aimed to provide insights into climate change impacts, which are\n",
    "crucial for climate adaptation and mitigation strategies."
   ]
  },
  {
   "cell_type": "markdown",
   "id": "273e52a8-d9be-46be-bac1-013292691fe1",
   "metadata": {},
   "source": [
    "### Our Approach and Results"
   ]
  },
  {
   "cell_type": "markdown",
   "id": "2bc741fd-7e90-4f91-a030-35ce1f634860",
   "metadata": {},
   "source": [
    "We used a data-driven approach with multiple steps. Data preprocessing involved converting time\n",
    "data, correcting errors (e.g., FSNS, FLNS, and PRECT cannot be negative), creating new features\n",
    "(year, month, extreme heat indicators), and standardising values with ‘MinMaxScaler’ for consistency.\n",
    "Next, exploratory data analysis (EDA) used summary statistics, visualisations, and correlation\n",
    "matrices to identify trends in monthly and yearly temperature variations. Factor analysis applied\n",
    "Pearson and Spearman correlations to assess how FSNS, FLNS, QBOT, UBOT, VBOT, PRECT, and\n",
    "PRSN influence TREFHT across different seasons and between extreme and non-extreme heat days.\n",
    "For trend analysis, we used time series techniques and rolling averages to confirm year-over-year\n",
    "warming and identify periods with frequent extreme heat days, helping forecast future occurrences."
   ]
  },
  {
   "cell_type": "markdown",
   "id": "b049af28-3b5b-4fd6-8e7e-4434332bfcae",
   "metadata": {},
   "source": [
    "Through our analysis, we confirmed that Earth’s surface temperature is increasing over time. The data\n",
    "exhibited a clear year-over-year warming trend, with a rise in extreme heat days. These findings align\n",
    "with IPCC projections of global temperature increase. We identified that QBOT (humidity), FSNS\n",
    "(solar radiation), and FLNS (longwave radiation) are the strongest influencers of temperature. In\n",
    "summer, FSNS plays a dominant role in increasing heat levels, while in winter, FLNS and wind\n",
    "components (UBOT/VBOT) have a greater impact. Higher humidity (QBOT) was found to amplify heat\n",
    "stress, increasing the frequency of extreme heat days. Additionally, extreme heat days are becoming\n",
    "more frequent, with more days exceeding 305K and 308K observed in the later years of the dataset.\n",
    "This suggests an increasing risk of heatwaves, health impacts, and environmental changes.\n",
    "Understanding seasonal differences was crucial in analysing temperature fluctuations, as summer\n",
    "and winter showed different dominant factors. For example, cloud cover (FLNS) and wind patterns\n",
    "(UBOT, VBOT) regulate temperature differently across seasons."
   ]
  },
  {
   "cell_type": "markdown",
   "id": "286ab333-330f-41ea-a692-afe4031cdd83",
   "metadata": {},
   "source": [
    "### Challenges Encountered"
   ]
  },
  {
   "cell_type": "markdown",
   "id": "ced0d7f1-bffe-43b2-9260-edec279e4a72",
   "metadata": {},
   "source": [
    "One of the main challenges we faced was interpreting meteorological interactions. Understanding how\n",
    "different factors such as FSNS, FLNS, wind, and precipitation interact was complex. Some variables\n",
    "exhibited non-linear relationships, making simple correlation analysis insufficient for capturing the full\n",
    "dynamics of temperature variations. Another challenge was comparing seasonal influences across\n",
    "years. Differentiating the role of temperature drivers between seasons required careful statistical\n",
    "comparisons."
   ]
  },
  {
   "cell_type": "markdown",
   "id": "bc48c662-6ba1-4d53-80d8-b6d400c66092",
   "metadata": {},
   "source": [
    "### Future Improvements"
   ]
  },
  {
   "cell_type": "markdown",
   "id": "f231e272-92d5-461d-a9c5-26b95c624acb",
   "metadata": {},
   "source": [
    "One area for improvement is defining extreme heat thresholds more precisely. While we used 305K\n",
    "and 308K as standard thresholds, the impact of extreme heat may vary based on regional differences\n",
    "and human adaptation capacity. Future research could incorporate location-based heat thresholds to\n",
    "enhance the accuracy of heat stress analysis. Another improvement would be the use of machine\n",
    "learning models for temperature prediction. Instead of relying solely on correlation analysis, we could\n",
    "apply regression models such as Random Forest or XGBoost to predict future temperatures based on\n",
    "climate variables. This would provide more robust and data-driven insights into temperature\n",
    "forecasting. Additionally, we could expand the analysis to multiple locations. This study focused on a\n",
    "single location near Manchester, but a broader analysis covering multiple geographic areas could\n",
    "reveal regional climate differences and improve predictive capabilities. Furthermore, integrating\n",
    "real-world climate events, such as historical heatwaves and climate anomalies, would help validate\n",
    "findings and improve model accuracy"
   ]
  }
 ],
 "metadata": {
  "kernelspec": {
   "display_name": "Python 3 (ipykernel)",
   "language": "python",
   "name": "python3"
  },
  "language_info": {
   "codemirror_mode": {
    "name": "ipython",
    "version": 3
   },
   "file_extension": ".py",
   "mimetype": "text/x-python",
   "name": "python",
   "nbconvert_exporter": "python",
   "pygments_lexer": "ipython3",
   "version": "3.12.2"
  }
 },
 "nbformat": 4,
 "nbformat_minor": 5
}
